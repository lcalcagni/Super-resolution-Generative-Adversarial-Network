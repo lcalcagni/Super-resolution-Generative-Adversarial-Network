{
  "nbformat": 4,
  "nbformat_minor": 0,
  "metadata": {
    "colab": {
      "name": "SRGAN_trainColab.ipynb",
      "provenance": []
    },
    "kernelspec": {
      "name": "python3",
      "display_name": "Python 3"
    },
    "accelerator": "GPU"
  },
  "cells": [
    {
      "cell_type": "markdown",
      "metadata": {
        "id": "E2N0pUIpT1NW",
        "colab_type": "text"
      },
      "source": [
        "Check if GPU is available"
      ]
    },
    {
      "cell_type": "code",
      "metadata": {
        "id": "T8WFuVehA5w-",
        "colab_type": "code",
        "colab": {}
      },
      "source": [
        "from tensorflow.python.client import device_lib\n",
        "import tensorflow as tf\n",
        "print(device_lib.list_local_devices())\n",
        "tf.test.is_gpu_available()"
      ],
      "execution_count": 0,
      "outputs": []
    },
    {
      "cell_type": "markdown",
      "metadata": {
        "id": "-xjT5dZwT-Ok",
        "colab_type": "text"
      },
      "source": [
        "Access your Google Drive\n"
      ]
    },
    {
      "cell_type": "code",
      "metadata": {
        "id": "74do4gk3D7JF",
        "colab_type": "code",
        "outputId": "6e6eaaa0-e5d4-44ce-95ad-f0a939d15c78",
        "colab": {
          "base_uri": "https://localhost:8080/",
          "height": 122
        }
      },
      "source": [
        "from google.colab import drive\n",
        "drive.mount('/content/gdrive')"
      ],
      "execution_count": 4,
      "outputs": [
        {
          "output_type": "stream",
          "text": [
            "Go to this URL in a browser: https://accounts.google.com/o/oauth2/auth?client_id=947318989803-6bn6qk8qdgf4n4g3pfee6491hc0brc4i.apps.googleusercontent.com&redirect_uri=urn%3aietf%3awg%3aoauth%3a2.0%3aoob&response_type=code&scope=email%20https%3a%2f%2fwww.googleapis.com%2fauth%2fdocs.test%20https%3a%2f%2fwww.googleapis.com%2fauth%2fdrive%20https%3a%2f%2fwww.googleapis.com%2fauth%2fdrive.photos.readonly%20https%3a%2f%2fwww.googleapis.com%2fauth%2fpeopleapi.readonly\n",
            "\n",
            "Enter your authorization code:\n",
            "··········\n",
            "Mounted at /content/gdrive\n"
          ],
          "name": "stdout"
        }
      ]
    },
    {
      "cell_type": "markdown",
      "metadata": {
        "id": "ATaMUUsbUL1g",
        "colab_type": "text"
      },
      "source": [
        "Access project directory"
      ]
    },
    {
      "cell_type": "code",
      "metadata": {
        "id": "c3l-7MdWIRXb",
        "colab_type": "code",
        "colab": {}
      },
      "source": [
        "%cd gdrive/My Drive/Colab Notebooks/Super-resolution-Generative-Adversarial-Network\n"
      ],
      "execution_count": 0,
      "outputs": []
    },
    {
      "cell_type": "markdown",
      "metadata": {
        "id": "tR21gMRnUe8j",
        "colab_type": "text"
      },
      "source": [
        "Install the requirements"
      ]
    },
    {
      "cell_type": "code",
      "metadata": {
        "id": "aQElU1wNBTPu",
        "colab_type": "code",
        "colab": {}
      },
      "source": [
        "!pip install -r requirements.txt\n",
        "\n",
        "!wget http://developer.download.nvidia.com/compute/cuda/repos/ubuntu1604/x86_64/cuda-repo-ubuntu1604_9.0.176-1_amd64.deb\n",
        "!wget http://developer.download.nvidia.com/compute/machine-learning/repos/ubuntu1604/x86_64/libcudnn7_7.0.5.15-1+cuda9.0_amd64.deb\n",
        "!wget http://developer.download.nvidia.com/compute/machine-learning/repos/ubuntu1604/x86_64/libcudnn7-dev_7.0.5.15-1+cuda9.0_amd64.deb\n",
        "!wget http://developer.download.nvidia.com/compute/machine-learning/repos/ubuntu1604/x86_64/libnccl2_2.1.4-1+cuda9.0_amd64.deb\n",
        "!wget http://developer.download.nvidia.com/compute/machine-learning/repos/ubuntu1604/x86_64/libnccl-dev_2.1.4-1+cuda9.0_amd64.deb\n",
        "!wget http://developer.download.nvidia.com/compute/machine-learning/repos/ubuntu1604/x86_64/libcudnn7_7.1.4.18-1+cuda9.0_amd64.deb\n",
        "\n",
        "!sudo dpkg -i cuda-repo-ubuntu1604_9.0.176-1_amd64.deb\n",
        "!sudo dpkg -i libcudnn7_7.0.5.15-1+cuda9.0_amd64.deb\n",
        "!sudo dpkg -i libcudnn7-dev_7.0.5.15-1+cuda9.0_amd64.deb\n",
        "!sudo dpkg -i libnccl2_2.1.4-1+cuda9.0_amd64.deb\n",
        "!sudo dpkg -i libnccl-dev_2.1.4-1+cuda9.0_amd64.deb\n",
        "!sudo apt-get update\n",
        "!sudo apt-get install cuda=9.0.176-1\n",
        "!sudo apt-get install libcudnn7-dev\n",
        "!sudo dpkg -i libcudnn7_7.1.4.18-1+cuda9.0_amd64.deb\n",
        "!sudo apt-get install libnccl-dev"
      ],
      "execution_count": 0,
      "outputs": []
    },
    {
      "cell_type": "markdown",
      "metadata": {
        "id": "JrT2GlUZVLxz",
        "colab_type": "text"
      },
      "source": [
        "\n",
        "Train the SRGAN \n",
        "\n",
        "\n"
      ]
    },
    {
      "cell_type": "code",
      "metadata": {
        "id": "KZdg5ottBhC4",
        "colab_type": "code",
        "colab": {}
      },
      "source": [
        "!python main.py"
      ],
      "execution_count": 0,
      "outputs": []
    }
  ]
}